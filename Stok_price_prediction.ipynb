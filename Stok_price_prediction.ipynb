{
 "cells": [
  {
   "cell_type": "code",
   "execution_count": 1,
   "metadata": {},
   "outputs": [],
   "source": [
    "import numpy as np\n",
    "import pandas as pd\n",
    "import matplotlib.pyplot as plt\n",
    "%matplotlib inline\n",
    "import math\n",
    "\n",
    "from sklearn.model_selection import train_test_split\n",
    "from sklearn.metrics import mean_squared_error\n",
    "from sklearn.preprocessing import MinMaxScaler\n",
    "from keras.optimizers import Adam\n",
    "from keras import regularizers\n",
    "from keras.layers.normalization import BatchNormalization\n",
    "from keras.preprocessing.sequence import TimeseriesGenerator\n",
    "from keras.models import Sequential\n",
    "from keras.layers import Dense,LSTM,GRU,Activation,Dropout,Bidirectional\n",
    "from keras.layers.convolutional import Conv1D\n",
    "from keras.layers.convolutional import MaxPooling1D\n",
    "from keras.layers import Flatten\n",
    "from keras.utils.vis_utils import plot_model\n"
   ]
  },
  {
   "cell_type": "code",
   "execution_count": 2,
   "metadata": {},
   "outputs": [],
   "source": [
    "# pre-set the plot font sizes...\n",
    "\n",
    "SMALL_SIZE = 12\n",
    "MEDIUM_SIZE = 14\n",
    "BIGGER_SIZE = 16\n",
    "\n",
    "plt.rc('font', size=MEDIUM_SIZE)          # controls default text sizes\n",
    "plt.rc('axes', titlesize=SMALL_SIZE)      # fontsize of the axes title\n",
    "plt.rc('axes', labelsize=BIGGER_SIZE)     # fontsize of the x and y labels\n",
    "plt.rc('xtick', labelsize=MEDIUM_SIZE)    # fontsize of the tick labels\n",
    "plt.rc('ytick', labelsize=MEDIUM_SIZE)    # fontsize of the tick labels\n",
    "plt.rc('legend', fontsize=SMALL_SIZE)     # legend fontsize\n",
    "plt.rc('figure', titlesize=BIGGER_SIZE)   # fontsize of the figure title"
   ]
  },
  {
   "cell_type": "code",
   "execution_count": 3,
   "metadata": {},
   "outputs": [],
   "source": [
    "df = pd.read_excel(r\"C:\\Users\\HP\\Desktop\\NIFTY_50.xlsx\")"
   ]
  },
  {
   "cell_type": "code",
   "execution_count": 4,
   "metadata": {},
   "outputs": [
    {
     "data": {
      "text/plain": [
       "(4154, 7)"
      ]
     },
     "execution_count": 4,
     "metadata": {},
     "output_type": "execute_result"
    }
   ],
   "source": [
    "# dataframe dimensions\n",
    "df.shape"
   ]
  },
  {
   "cell_type": "code",
   "execution_count": 5,
   "metadata": {},
   "outputs": [
    {
     "data": {
      "text/plain": [
       "date       object\n",
       "open      float64\n",
       "high      float64\n",
       "low       float64\n",
       "close     float64\n",
       "ltp       float64\n",
       "volume      int64\n",
       "dtype: object"
      ]
     },
     "execution_count": 5,
     "metadata": {},
     "output_type": "execute_result"
    }
   ],
   "source": [
    "# column data types\n",
    "df.dtypes"
   ]
  },
  {
   "cell_type": "code",
   "execution_count": 6,
   "metadata": {},
   "outputs": [
    {
     "data": {
      "text/html": [
       "<div>\n",
       "<style scoped>\n",
       "    .dataframe tbody tr th:only-of-type {\n",
       "        vertical-align: middle;\n",
       "    }\n",
       "\n",
       "    .dataframe tbody tr th {\n",
       "        vertical-align: top;\n",
       "    }\n",
       "\n",
       "    .dataframe thead th {\n",
       "        text-align: right;\n",
       "    }\n",
       "</style>\n",
       "<table border=\"1\" class=\"dataframe\">\n",
       "  <thead>\n",
       "    <tr style=\"text-align: right;\">\n",
       "      <th></th>\n",
       "      <th>date</th>\n",
       "      <th>open</th>\n",
       "      <th>high</th>\n",
       "      <th>low</th>\n",
       "      <th>close</th>\n",
       "      <th>ltp</th>\n",
       "      <th>volume</th>\n",
       "    </tr>\n",
       "  </thead>\n",
       "  <tbody>\n",
       "    <tr>\n",
       "      <th>0</th>\n",
       "      <td>2001-06-01</td>\n",
       "      <td>1168.099976</td>\n",
       "      <td>1175.800049</td>\n",
       "      <td>1146.900024</td>\n",
       "      <td>1148.050049</td>\n",
       "      <td>1148.050049</td>\n",
       "      <td>119800256</td>\n",
       "    </tr>\n",
       "    <tr>\n",
       "      <th>1</th>\n",
       "      <td>2001-06-04</td>\n",
       "      <td>1148.000000</td>\n",
       "      <td>1154.449951</td>\n",
       "      <td>1125.349976</td>\n",
       "      <td>1127.199951</td>\n",
       "      <td>1127.199951</td>\n",
       "      <td>94629112</td>\n",
       "    </tr>\n",
       "    <tr>\n",
       "      <th>2</th>\n",
       "      <td>2001-06-05</td>\n",
       "      <td>1127.150024</td>\n",
       "      <td>1130.650024</td>\n",
       "      <td>1106.800049</td>\n",
       "      <td>1115.599976</td>\n",
       "      <td>1115.599976</td>\n",
       "      <td>115483168</td>\n",
       "    </tr>\n",
       "    <tr>\n",
       "      <th>3</th>\n",
       "      <td>2001-06-06</td>\n",
       "      <td>1117.500000</td>\n",
       "      <td>1132.949951</td>\n",
       "      <td>1114.000000</td>\n",
       "      <td>1115.699951</td>\n",
       "      <td>1115.699951</td>\n",
       "      <td>91302832</td>\n",
       "    </tr>\n",
       "    <tr>\n",
       "      <th>4</th>\n",
       "      <td>2001-06-07</td>\n",
       "      <td>1115.050049</td>\n",
       "      <td>1116.099976</td>\n",
       "      <td>1095.449951</td>\n",
       "      <td>1112.349976</td>\n",
       "      <td>1112.349976</td>\n",
       "      <td>107671288</td>\n",
       "    </tr>\n",
       "    <tr>\n",
       "      <th>5</th>\n",
       "      <td>2001-06-08</td>\n",
       "      <td>1112.449951</td>\n",
       "      <td>1128.900024</td>\n",
       "      <td>1112.449951</td>\n",
       "      <td>1126.599976</td>\n",
       "      <td>1126.599976</td>\n",
       "      <td>106103584</td>\n",
       "    </tr>\n",
       "    <tr>\n",
       "      <th>6</th>\n",
       "      <td>2001-06-11</td>\n",
       "      <td>1126.550049</td>\n",
       "      <td>1134.800049</td>\n",
       "      <td>1122.349976</td>\n",
       "      <td>1131.099976</td>\n",
       "      <td>1131.099976</td>\n",
       "      <td>81690952</td>\n",
       "    </tr>\n",
       "    <tr>\n",
       "      <th>7</th>\n",
       "      <td>2001-06-12</td>\n",
       "      <td>1131.050049</td>\n",
       "      <td>1133.300049</td>\n",
       "      <td>1121.800049</td>\n",
       "      <td>1127.150024</td>\n",
       "      <td>1127.150024</td>\n",
       "      <td>96815080</td>\n",
       "    </tr>\n",
       "    <tr>\n",
       "      <th>8</th>\n",
       "      <td>2001-06-13</td>\n",
       "      <td>1127.099976</td>\n",
       "      <td>1132.949951</td>\n",
       "      <td>1126.900024</td>\n",
       "      <td>1129.000000</td>\n",
       "      <td>1129.000000</td>\n",
       "      <td>93428240</td>\n",
       "    </tr>\n",
       "    <tr>\n",
       "      <th>9</th>\n",
       "      <td>2001-06-14</td>\n",
       "      <td>1128.949951</td>\n",
       "      <td>1128.949951</td>\n",
       "      <td>1110.150024</td>\n",
       "      <td>1112.750000</td>\n",
       "      <td>1112.750000</td>\n",
       "      <td>99996072</td>\n",
       "    </tr>\n",
       "  </tbody>\n",
       "</table>\n",
       "</div>"
      ],
      "text/plain": [
       "         date         open         high          low        close  \\\n",
       "0  2001-06-01  1168.099976  1175.800049  1146.900024  1148.050049   \n",
       "1  2001-06-04  1148.000000  1154.449951  1125.349976  1127.199951   \n",
       "2  2001-06-05  1127.150024  1130.650024  1106.800049  1115.599976   \n",
       "3  2001-06-06  1117.500000  1132.949951  1114.000000  1115.699951   \n",
       "4  2001-06-07  1115.050049  1116.099976  1095.449951  1112.349976   \n",
       "5  2001-06-08  1112.449951  1128.900024  1112.449951  1126.599976   \n",
       "6  2001-06-11  1126.550049  1134.800049  1122.349976  1131.099976   \n",
       "7  2001-06-12  1131.050049  1133.300049  1121.800049  1127.150024   \n",
       "8  2001-06-13  1127.099976  1132.949951  1126.900024  1129.000000   \n",
       "9  2001-06-14  1128.949951  1128.949951  1110.150024  1112.750000   \n",
       "\n",
       "           ltp     volume  \n",
       "0  1148.050049  119800256  \n",
       "1  1127.199951   94629112  \n",
       "2  1115.599976  115483168  \n",
       "3  1115.699951   91302832  \n",
       "4  1112.349976  107671288  \n",
       "5  1126.599976  106103584  \n",
       "6  1131.099976   81690952  \n",
       "7  1127.150024   96815080  \n",
       "8  1129.000000   93428240  \n",
       "9  1112.750000   99996072  "
      ]
     },
     "execution_count": 6,
     "metadata": {},
     "output_type": "execute_result"
    }
   ],
   "source": [
    "# display top 10 observations of the dataset\n",
    "df.head(10)"
   ]
  },
  {
   "cell_type": "code",
   "execution_count": 7,
   "metadata": {},
   "outputs": [
    {
     "data": {
      "text/html": [
       "<div>\n",
       "<style scoped>\n",
       "    .dataframe tbody tr th:only-of-type {\n",
       "        vertical-align: middle;\n",
       "    }\n",
       "\n",
       "    .dataframe tbody tr th {\n",
       "        vertical-align: top;\n",
       "    }\n",
       "\n",
       "    .dataframe thead th {\n",
       "        text-align: right;\n",
       "    }\n",
       "</style>\n",
       "<table border=\"1\" class=\"dataframe\">\n",
       "  <thead>\n",
       "    <tr style=\"text-align: right;\">\n",
       "      <th></th>\n",
       "      <th>open</th>\n",
       "      <th>high</th>\n",
       "      <th>low</th>\n",
       "      <th>close</th>\n",
       "      <th>ltp</th>\n",
       "      <th>volume</th>\n",
       "    </tr>\n",
       "  </thead>\n",
       "  <tbody>\n",
       "    <tr>\n",
       "      <th>count</th>\n",
       "      <td>4154.000000</td>\n",
       "      <td>4154.000000</td>\n",
       "      <td>4154.000000</td>\n",
       "      <td>4154.000000</td>\n",
       "      <td>4154.000000</td>\n",
       "      <td>4.154000e+03</td>\n",
       "    </tr>\n",
       "    <tr>\n",
       "      <th>mean</th>\n",
       "      <td>4772.439828</td>\n",
       "      <td>4806.325905</td>\n",
       "      <td>4733.888913</td>\n",
       "      <td>4770.947702</td>\n",
       "      <td>4770.947702</td>\n",
       "      <td>6.151891e+08</td>\n",
       "    </tr>\n",
       "    <tr>\n",
       "      <th>std</th>\n",
       "      <td>2647.984292</td>\n",
       "      <td>2654.882230</td>\n",
       "      <td>2635.534000</td>\n",
       "      <td>2645.007324</td>\n",
       "      <td>2645.007324</td>\n",
       "      <td>3.708036e+08</td>\n",
       "    </tr>\n",
       "    <tr>\n",
       "      <th>min</th>\n",
       "      <td>853.000000</td>\n",
       "      <td>877.000000</td>\n",
       "      <td>849.950012</td>\n",
       "      <td>854.200012</td>\n",
       "      <td>854.200012</td>\n",
       "      <td>3.567121e+06</td>\n",
       "    </tr>\n",
       "    <tr>\n",
       "      <th>25%</th>\n",
       "      <td>2223.162476</td>\n",
       "      <td>2236.500061</td>\n",
       "      <td>2211.325012</td>\n",
       "      <td>2228.774963</td>\n",
       "      <td>2228.774963</td>\n",
       "      <td>3.126519e+08</td>\n",
       "    </tr>\n",
       "    <tr>\n",
       "      <th>50%</th>\n",
       "      <td>4979.399902</td>\n",
       "      <td>5029.849854</td>\n",
       "      <td>4931.974854</td>\n",
       "      <td>4977.824951</td>\n",
       "      <td>4977.824951</td>\n",
       "      <td>5.771260e+08</td>\n",
       "    </tr>\n",
       "    <tr>\n",
       "      <th>75%</th>\n",
       "      <td>6179.737671</td>\n",
       "      <td>6218.700195</td>\n",
       "      <td>6144.737549</td>\n",
       "      <td>6177.037598</td>\n",
       "      <td>6177.037598</td>\n",
       "      <td>8.322671e+08</td>\n",
       "    </tr>\n",
       "    <tr>\n",
       "      <th>max</th>\n",
       "      <td>11120.849609</td>\n",
       "      <td>11171.549805</td>\n",
       "      <td>11075.950195</td>\n",
       "      <td>11130.400391</td>\n",
       "      <td>11130.400391</td>\n",
       "      <td>2.137053e+09</td>\n",
       "    </tr>\n",
       "  </tbody>\n",
       "</table>\n",
       "</div>"
      ],
      "text/plain": [
       "               open          high           low         close           ltp  \\\n",
       "count   4154.000000   4154.000000   4154.000000   4154.000000   4154.000000   \n",
       "mean    4772.439828   4806.325905   4733.888913   4770.947702   4770.947702   \n",
       "std     2647.984292   2654.882230   2635.534000   2645.007324   2645.007324   \n",
       "min      853.000000    877.000000    849.950012    854.200012    854.200012   \n",
       "25%     2223.162476   2236.500061   2211.325012   2228.774963   2228.774963   \n",
       "50%     4979.399902   5029.849854   4931.974854   4977.824951   4977.824951   \n",
       "75%     6179.737671   6218.700195   6144.737549   6177.037598   6177.037598   \n",
       "max    11120.849609  11171.549805  11075.950195  11130.400391  11130.400391   \n",
       "\n",
       "             volume  \n",
       "count  4.154000e+03  \n",
       "mean   6.151891e+08  \n",
       "std    3.708036e+08  \n",
       "min    3.567121e+06  \n",
       "25%    3.126519e+08  \n",
       "50%    5.771260e+08  \n",
       "75%    8.322671e+08  \n",
       "max    2.137053e+09  "
      ]
     },
     "execution_count": 7,
     "metadata": {},
     "output_type": "execute_result"
    }
   ],
   "source": [
    "# sumarize numerical features\n",
    "df.describe()"
   ]
  },
  {
   "cell_type": "code",
   "execution_count": 8,
   "metadata": {},
   "outputs": [],
   "source": [
    "df['date'] = pd.to_datetime(df['date'], format = '%Y-%m-%d %H:%M:%S')\n",
    "# sort by datetime\n",
    "df.sort_values(by='date', inplace=True, ascending=True)"
   ]
  },
  {
   "cell_type": "code",
   "execution_count": 9,
   "metadata": {},
   "outputs": [
    {
     "data": {
      "image/png": "[encoded data removed]",
      "text/plain": [
       "<Figure size 1152x576 with 1 Axes>"
      ]
     },
     "metadata": {
      "needs_background": "light"
     },
     "output_type": "display_data"
    }
   ],
   "source": [
    "plt.figure(figsize = (16,8))\n",
    "plt.plot(df['date'], df['close'], label = 'Closing Price History')\n",
    "plt.legend(loc = \"upper left\")\n",
    "plt.xlabel('Year')\n",
    "plt.ylabel('Instrument Price ')\n",
    "#plt.show()\n",
    "plt.savefig(r'C:\\Users\\HP\\Desktop\\project\\raw data.png')"
   ]
  },
  {
   "cell_type": "code",
   "execution_count": 10,
   "metadata": {},
   "outputs": [
    {
     "name": "stdout",
     "output_type": "stream",
     "text": [
      "train_num: 3323\n",
      "test_num: 831\n"
     ]
    }
   ],
   "source": [
    "\n",
    "test_size = 0.2\n",
    "training_size = 1 - test_size\n",
    "\n",
    "\n",
    "train_num = int(training_size * len(df))\n",
    "test_num = len(df) - train_num\n",
    "\n",
    "print(\"train_num: \" + str(train_num))\n",
    "print(\"test_num: \" + str(test_num))"
   ]
  },
  {
   "cell_type": "code",
   "execution_count": 48,
   "metadata": {},
   "outputs": [],
   "source": [
    "train = df[:train_num][['date', 'close']]\n",
    "test = df[train_num:][['date', 'close']]"
   ]
  },
  {
   "cell_type": "code",
   "execution_count": 11,
   "metadata": {},
   "outputs": [],
   "source": [
    "\n",
    "type_of_data = \"MULTI VARIATE\"   # UNI VARIATE   OR MULTI VARIATE\n",
    "if type_of_data == \"UNI VARIATE\" :\n",
    "    colNames = [\"close\"]\n",
    "elif type_of_data == \"MULTI VARIATE\" :\n",
    "    colNames = [\"open\",\"high\",\"low\",\"close\",\"volume\"]\n",
    "\n",
    "data_set = df[colNames]\n",
    "scaled_data = data_set.copy()"
   ]
  },
  {
   "cell_type": "code",
   "execution_count": 34,
   "metadata": {},
   "outputs": [],
   "source": [
    "# scale our dataset\n",
    "look_back_period = 60\n",
    "days = 0\n",
    "\n",
    "scaler = MinMaxScaler(feature_range=(0, 1))\n",
    "scaled_data[colNames] = scaler.fit_transform(data_set[colNames])\n",
    "scaled_data_train = scaled_data[:train_num]\n",
    "scaled_data_test = scaled_data[train_num - look_back_period - days + 1:]"
   ]
  },
  {
   "cell_type": "code",
   "execution_count": 35,
   "metadata": {},
   "outputs": [],
   "source": [
    "scaled_data_test = scaled_data_test.reset_index()\n",
    "scaled_data_test.drop(['index'], axis=1,inplace = True)"
   ]
  },
  {
   "cell_type": "code",
   "execution_count": 36,
   "metadata": {},
   "outputs": [
    {
     "data": {
      "text/html": [
       "<div>\n",
       "<style scoped>\n",
       "    .dataframe tbody tr th:only-of-type {\n",
       "        vertical-align: middle;\n",
       "    }\n",
       "\n",
       "    .dataframe tbody tr th {\n",
       "        vertical-align: top;\n",
       "    }\n",
       "\n",
       "    .dataframe thead th {\n",
       "        text-align: right;\n",
       "    }\n",
       "</style>\n",
       "<table border=\"1\" class=\"dataframe\">\n",
       "  <thead>\n",
       "    <tr style=\"text-align: right;\">\n",
       "      <th></th>\n",
       "      <th>open</th>\n",
       "      <th>high</th>\n",
       "      <th>low</th>\n",
       "      <th>close</th>\n",
       "      <th>volume</th>\n",
       "    </tr>\n",
       "  </thead>\n",
       "  <tbody>\n",
       "    <tr>\n",
       "      <th>0</th>\n",
       "      <td>0.670184</td>\n",
       "      <td>0.668087</td>\n",
       "      <td>0.670531</td>\n",
       "      <td>0.667620</td>\n",
       "      <td>0.512800</td>\n",
       "    </tr>\n",
       "    <tr>\n",
       "      <th>1</th>\n",
       "      <td>0.668602</td>\n",
       "      <td>0.668412</td>\n",
       "      <td>0.666082</td>\n",
       "      <td>0.671201</td>\n",
       "      <td>0.465416</td>\n",
       "    </tr>\n",
       "    <tr>\n",
       "      <th>2</th>\n",
       "      <td>0.674669</td>\n",
       "      <td>0.671715</td>\n",
       "      <td>0.675254</td>\n",
       "      <td>0.674661</td>\n",
       "      <td>0.460186</td>\n",
       "    </tr>\n",
       "    <tr>\n",
       "      <th>3</th>\n",
       "      <td>0.676972</td>\n",
       "      <td>0.673351</td>\n",
       "      <td>0.659686</td>\n",
       "      <td>0.658707</td>\n",
       "      <td>0.572172</td>\n",
       "    </tr>\n",
       "    <tr>\n",
       "      <th>4</th>\n",
       "      <td>0.660796</td>\n",
       "      <td>0.657931</td>\n",
       "      <td>0.655359</td>\n",
       "      <td>0.654989</td>\n",
       "      <td>0.555845</td>\n",
       "    </tr>\n",
       "    <tr>\n",
       "      <th>...</th>\n",
       "      <td>...</td>\n",
       "      <td>...</td>\n",
       "      <td>...</td>\n",
       "      <td>...</td>\n",
       "      <td>...</td>\n",
       "    </tr>\n",
       "    <tr>\n",
       "      <th>885</th>\n",
       "      <td>0.919584</td>\n",
       "      <td>0.943912</td>\n",
       "      <td>0.921802</td>\n",
       "      <td>0.938484</td>\n",
       "      <td>0.875246</td>\n",
       "    </tr>\n",
       "    <tr>\n",
       "      <th>886</th>\n",
       "      <td>0.949975</td>\n",
       "      <td>0.945840</td>\n",
       "      <td>0.938436</td>\n",
       "      <td>0.936387</td>\n",
       "      <td>0.718861</td>\n",
       "    </tr>\n",
       "    <tr>\n",
       "      <th>887</th>\n",
       "      <td>0.941336</td>\n",
       "      <td>0.948152</td>\n",
       "      <td>0.941678</td>\n",
       "      <td>0.946133</td>\n",
       "      <td>0.741154</td>\n",
       "    </tr>\n",
       "    <tr>\n",
       "      <th>888</th>\n",
       "      <td>0.931402</td>\n",
       "      <td>0.932843</td>\n",
       "      <td>0.933723</td>\n",
       "      <td>0.934270</td>\n",
       "      <td>0.736823</td>\n",
       "    </tr>\n",
       "    <tr>\n",
       "      <th>889</th>\n",
       "      <td>0.941307</td>\n",
       "      <td>0.940158</td>\n",
       "      <td>0.942250</td>\n",
       "      <td>0.942522</td>\n",
       "      <td>0.717876</td>\n",
       "    </tr>\n",
       "  </tbody>\n",
       "</table>\n",
       "<p>890 rows × 5 columns</p>\n",
       "</div>"
      ],
      "text/plain": [
       "         open      high       low     close    volume\n",
       "0    0.670184  0.668087  0.670531  0.667620  0.512800\n",
       "1    0.668602  0.668412  0.666082  0.671201  0.465416\n",
       "2    0.674669  0.671715  0.675254  0.674661  0.460186\n",
       "3    0.676972  0.673351  0.659686  0.658707  0.572172\n",
       "4    0.660796  0.657931  0.655359  0.654989  0.555845\n",
       "..        ...       ...       ...       ...       ...\n",
       "885  0.919584  0.943912  0.921802  0.938484  0.875246\n",
       "886  0.949975  0.945840  0.938436  0.936387  0.718861\n",
       "887  0.941336  0.948152  0.941678  0.946133  0.741154\n",
       "888  0.931402  0.932843  0.933723  0.934270  0.736823\n",
       "889  0.941307  0.940158  0.942250  0.942522  0.717876\n",
       "\n",
       "[890 rows x 5 columns]"
      ]
     },
     "execution_count": 36,
     "metadata": {},
     "output_type": "execute_result"
    }
   ],
   "source": [
    "scaled_data_test"
   ]
  },
  {
   "cell_type": "code",
   "execution_count": 37,
   "metadata": {},
   "outputs": [],
   "source": [
    "def get_mape(y_true, y_pred): \n",
    "    \"\"\"\n",
    "    Compute Mean Absolute Percentage Error (MAPE)\n",
    "    \n",
    "    INPUT:\n",
    "    y_true - actual variable\n",
    "    y_pred - predicted variable\n",
    "    \n",
    "    OUTPUT:\n",
    "    mape - Mean Absolute Percentage Error (%)\n",
    "    \n",
    "    \"\"\"\n",
    "    y_true, y_pred = np.array(y_true), np.array(y_pred)\n",
    "    \n",
    "    mape = np.mean(np.abs((y_true - y_pred) / y_true)) * 100\n",
    "    \n",
    "    return mape\n",
    "\n",
    "def get_rmse(y_true, y_pred):\n",
    "    \"\"\"\n",
    "    Compute Root Mean Squared Error (RMSE)\n",
    "    \n",
    "    INPUT:\n",
    "    y_true - actual variable\n",
    "    y_pred - predicted variable\n",
    "    \n",
    "    OUTPUT:\n",
    "    rmse - Root Mean Squared Error\n",
    "    \n",
    "    \"\"\"\n",
    "    rmse = np.sqrt(np.mean(np.power((y_true - y_pred),2)))\n",
    "                   \n",
    "    return rmse"
   ]
  },
  {
   "cell_type": "code",
   "execution_count": 38,
   "metadata": {},
   "outputs": [],
   "source": [
    "\n",
    "# create a useful function to split our data into X and y\n",
    "\n",
    "def x_y(data, N , days = 0):\n",
    "    \"\"\"\n",
    "    Split data into input variable (X) and output variable (y)\n",
    "    \n",
    "    INPUT:\n",
    "    data - dataset to be splitted\n",
    "    N - time frame to be used\n",
    "    offset - position to start the split\n",
    "    \n",
    "    OUTPUT:\n",
    "    X - input variable\n",
    "    y - output variable\n",
    "    \"\"\"\n",
    "    X, y = [], []\n",
    "    \n",
    "    for i in range(N + days - 1, len(data)):\n",
    "        X.append(data[i - N - days + 1 :i - days + 1].to_numpy())\n",
    "        y.append(data.close[i])\n",
    "        \n",
    "    X = np.array(X)\n",
    "    y = np.array(y)\n",
    "    \n",
    "    return X, y"
   ]
  },
  {
   "cell_type": "code",
   "execution_count": 39,
   "metadata": {},
   "outputs": [],
   "source": [
    "# we use past 60 days stock prices for our training to predict 61th day's closing price.\n",
    "X_train, y_train = x_y(scaled_data_train, look_back_period, days)\n",
    "X_test, y_test = x_y(scaled_data_test, look_back_period, days)"
   ]
  },
  {
   "cell_type": "code",
   "execution_count": 40,
   "metadata": {},
   "outputs": [],
   "source": [
    "def lstm_model(hidden_units=64,layers=1,dense_layers=64,sequence=False):\n",
    "\n",
    "    model = Sequential()\n",
    "    for i in range(layers):\n",
    "    \n",
    "\n",
    "        if i == 0: model.add(LSTM(units = hidden_units,activation = 'relu',input_shape = (X_train.shape[1],X_train.shape[2]),return_sequences = sequence))\n",
    "        elif i < layers-1: model.add(LSTM(units = hidden_units,activation = 'relu',return_sequences = sequence))\n",
    "        else: model.add(LSTM(units = hidden_units,activation = 'relu'))\n",
    "\n",
    "        \n",
    "        \n",
    "    model.add(Dense(dense_layers,'relu'))\n",
    "    model.add(Dense(1,'linear'))\n",
    "    model.summary()\n",
    "    return model\n"
   ]
  },
  {
   "cell_type": "code",
   "execution_count": 57,
   "metadata": {},
   "outputs": [
    {
     "name": "stdout",
     "output_type": "stream",
     "text": [
      "Model: \"sequential_6\"\n",
      "_________________________________________________________________\n",
      "Layer (type)                 Output Shape              Param #   \n",
      "=================================================================\n",
      "lstm_5 (LSTM)                (None, 64)                17920     \n",
      "_________________________________________________________________\n",
      "dense_11 (Dense)             (None, 64)                4160      \n",
      "_________________________________________________________________\n",
      "dense_12 (Dense)             (None, 1)                 65        \n",
      "=================================================================\n",
      "Total params: 22,145\n",
      "Trainable params: 22,145\n",
      "Non-trainable params: 0\n",
      "_________________________________________________________________\n"
     ]
    },
    {
     "data": {
      "image/png": "[encoded data removed]",
      "text/plain": [
       "<IPython.core.display.Image object>"
      ]
     },
     "execution_count": 57,
     "metadata": {},
     "output_type": "execute_result"
    }
   ],
   "source": [
    "model1 = lstm_model()\n",
    "plot_model(model1 , to_file='model_plot.png' , show_shapes=True, show_layer_names=True)"
   ]
  },
  {
   "cell_type": "code",
   "execution_count": 45,
   "metadata": {},
   "outputs": [],
   "source": [
    "def invTransform(scaler, data, colName, colNames):\n",
    "    dummy = pd.DataFrame(np.zeros((len(data), len(colNames))), columns=colNames)\n",
    "    dummy[colName] = data\n",
    "    dummy = pd.DataFrame(scaler.inverse_transform(dummy), columns=colNames)\n",
    "    return dummy[colName].values"
   ]
  },
  {
   "cell_type": "code",
   "execution_count": 51,
   "metadata": {},
   "outputs": [
    {
     "name": "stdout",
     "output_type": "stream",
     "text": [
      "Enter 1 if MLP else 0     :       0\n",
      "This is not a MLP model\n",
      "Epoch 1/10\n",
      "51/51 [==============================] - 1s 18ms/step - loss: 1.9684e-04 - mean_absolute_error: 0.0097\n",
      "Epoch 2/10\n",
      "51/51 [==============================] - 1s 18ms/step - loss: 5.5422e-05 - mean_absolute_error: 0.0052\n",
      "Epoch 3/10\n",
      "51/51 [==============================] - 1s 21ms/step - loss: 5.2833e-05 - mean_absolute_error: 0.0050: 0s - loss: 5.7715e-05 - mean_absolute_\n",
      "Epoch 4/10\n",
      "51/51 [==============================] - 1s 25ms/step - loss: 4.8672e-05 - mean_absolute_error: 0.0048\n",
      "Epoch 5/10\n",
      "51/51 [==============================] - 1s 21ms/step - loss: 4.9650e-05 - mean_absolute_error: 0.0049\n",
      "Epoch 6/10\n",
      "51/51 [==============================] - 1s 21ms/step - loss: 4.7476e-05 - mean_absolute_error: 0.0048\n",
      "Epoch 7/10\n",
      "51/51 [==============================] - 1s 22ms/step - loss: 4.4175e-05 - mean_absolute_error: 0.0045\n",
      "Epoch 8/10\n",
      "51/51 [==============================] - 1s 22ms/step - loss: 4.9299e-05 - mean_absolute_error: 0.0049\n",
      "Epoch 9/10\n",
      "51/51 [==============================] - 1s 24ms/step - loss: 4.6881e-05 - mean_absolute_error: 0.0048\n",
      "Epoch 10/10\n",
      "51/51 [==============================] - 1s 21ms/step - loss: 4.2414e-05 - mean_absolute_error: 0.0045\n",
      "\n"
     ]
    }
   ],
   "source": [
    "opt = Adam(learning_rate = 0.001)\n",
    "model1.compile(loss= 'mean_squared_error',metrics=['mean_absolute_error'],optimizer = opt)\n",
    "\n",
    "\n",
    "\n",
    "#history = model.fit(args[0],epochs = self.epochs,validation_data=args[1])\n",
    "history = model1.fit(X_train, y_train,batch_size=64,epochs = 10)\n",
    "print()\n",
    "#loss, metric = model1.evaluate(X_test)\n",
    "pred_y = model1.predict(X_test)\n",
    "closing_price = invTransform ( scaler , pred_y , \"close\" , colNames )\n",
    "#print('validation mean absolute error = ',metric)"
   ]
  },
  {
   "cell_type": "code",
   "execution_count": 53,
   "metadata": {},
   "outputs": [
    {
     "data": {
      "image/png": "[encoded data removed]",
      "text/plain": [
       "<Figure size 1440x720 with 1 Axes>"
      ]
     },
     "metadata": {
      "needs_background": "light"
     },
     "output_type": "display_data"
    }
   ],
   "source": [
    "# Plot predicted price vs actual closing price \n",
    "def make_plot(train,test,closing_price) :\n",
    "    test['Predictions_lstm'] = closing_price\n",
    "    plt.figure(figsize = (20,10))\n",
    "    plt.xlabel('Year')\n",
    "    plt.ylabel('Instrument Price ')\n",
    "    plt.plot(train['date'], train['close'], label = 'Closing Price History (train data)')\n",
    "    plt.plot(test['date'], test['close'], label = 'Closing Price History (test data)')\n",
    "    plt.plot(test['date'], test['Predictions_lstm'], label = 'Closing Price - Predicted')\n",
    "    plt.legend(loc = \"upper left\")\n",
    "    plt.show()\n",
    "    #plt.savefig(r'C:\\Users\\HP\\Desktop\\Final pro\\{}_batch size {}_epoch  {}_optimizer {}_test size result.png'.format(batch_size,epochs,optimizer,test_size))\n",
    "\n",
    "\n",
    "make_plot(train,test,closing_price)"
   ]
  },
  {
   "cell_type": "code",
   "execution_count": 54,
   "metadata": {},
   "outputs": [
    {
     "name": "stdout",
     "output_type": "stream",
     "text": [
      "\n",
      "\n",
      "Root Mean Squared Error: 89.52613449692485\n",
      "Mean Absolute Percentage Error (%): 0.8512561664110848\n"
     ]
    }
   ],
   "source": [
    "# Evaluate performance\n",
    "rmse_lstm = get_rmse(np.array(test['close']), np.array(test['Predictions_lstm']))\n",
    "mape_lstm = get_mape(np.array(test['close']), np.array(test['Predictions_lstm']))\n",
    "print()\n",
    "print()\n",
    "print('Root Mean Squared Error: ' + str(rmse_lstm))\n",
    "print('Mean Absolute Percentage Error (%): ' + str(mape_lstm))"
   ]
  },
  {
   "cell_type": "code",
   "execution_count": null,
   "metadata": {},
   "outputs": [],
   "source": []
  },
  {
   "cell_type": "code",
   "execution_count": null,
   "metadata": {},
   "outputs": [],
   "source": []
  }
 ],
 "metadata": {
  "kernelspec": {
   "display_name": "Python 3",
   "language": "python",
   "name": "python3"
  },
  "language_info": {
   "codemirror_mode": {
    "name": "ipython",
    "version": 3
   },
   "file_extension": ".py",
   "mimetype": "text/x-python",
   "name": "python",
   "nbconvert_exporter": "python",
   "pygments_lexer": "ipython3",
   "version": "3.8.5"
  }
 },
 "nbformat": 4,
 "nbformat_minor": 4
}
